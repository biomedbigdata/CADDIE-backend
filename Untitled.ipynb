{
 "cells": [
  {
   "cell_type": "code",
   "execution_count": 1,
   "id": "ce97e0e1",
   "metadata": {},
   "outputs": [],
   "source": [
    "import pandas as pd\n",
    "import caddiepy"
   ]
  },
  {
   "cell_type": "code",
   "execution_count": 4,
   "id": "c25b6e04",
   "metadata": {},
   "outputs": [],
   "source": [
    "df = pd.read_csv('data/CANCERNET/Drug_Target_cancertype_db-V2 - NIH.csv.gz', compression='gzip', header=0)\n",
    "\n",
    "def find_common_drugs(drug_list):\n",
    "    not_found = []\n",
    "    found_approved = []\n",
    "    found = []\n",
    "    for drug_name in drug_list:\n",
    "        result = caddiepy.api.drug_lookup(drug_name, 'DrugBank').json()\n",
    "        if not result['found'] or drug_name.lower() != result['drug'][0]['name'].lower():\n",
    "            not_found.append(drug_name)\n",
    "        \n",
    "        elif result['found']:\n",
    "            found.append(drug_name)\n",
    "            print(f\"found {drug_name}\")\n",
    "\n",
    "            if result['drug'][0]['status'] == 'approved':\n",
    "                found_approved.append(drug_name)\n",
    "        else:\n",
    "            print(f'not found {drug_name}')\n",
    "            not_found.append(drug_name)\n",
    "    return found, found_approved, not_found"
   ]
  },
  {
   "cell_type": "code",
   "execution_count": 10,
   "id": "10ba762b",
   "metadata": {},
   "outputs": [],
   "source": [
    "cancer_drugs = list(df['Drug name'].unique())\n",
    "cancer_drugs_split = [x.split(' ')[0] for x in cancer_drugs if ' ' in x]"
   ]
  },
  {
   "cell_type": "code",
   "execution_count": 12,
   "id": "8fb4a333",
   "metadata": {
    "scrolled": true
   },
   "outputs": [
    {
     "name": "stdout",
     "output_type": "stream",
     "text": [
      "found Abemaciclib\n",
      "found Acalabrutinib\n",
      "found Trastuzumab Emtansine\n",
      "found Aldesleukin\n",
      "found Alectinib\n",
      "found Alemtuzumab\n",
      "found Alpelisib\n",
      "found Anastrozole\n",
      "found Apalutamide\n",
      "found Arsenic Trioxide\n",
      "found Atezolizumab\n",
      "found Avelumab\n",
      "found Axicabtagene Ciloleucel\n",
      "found Axitinib\n",
      "found Belinostat\n",
      "found Bevacizumab\n",
      "found Bicalutamide\n",
      "found Binimetinib\n",
      "found Blinatumomab\n",
      "found Bortezomib\n",
      "found Bosutinib\n",
      "found Brentuximab vedotin\n",
      "found Brigatinib\n",
      "found Carfilzomib\n",
      "found Cemiplimab\n",
      "found Ceritinib\n",
      "found Cetuximab\n",
      "found Cobimetinib\n",
      "found Crizotinib\n",
      "found Dacomitinib\n",
      "found Daratumumab\n",
      "found Dasatinib\n",
      "found Degarelix\n",
      "found Denileukin Diftitox\n",
      "found Durvalumab\n",
      "found Duvelisib\n",
      "found Elotuzumab\n",
      "found Encorafenib\n",
      "found Entrectinib\n",
      "found Enzalutamide\n",
      "found Erdafitinib\n",
      "found Everolimus\n",
      "found Exemestane\n",
      "found Flutamide\n",
      "found Fulvestrant\n",
      "found Gefitinib\n",
      "found Gemtuzumab Ozogamicin\n",
      "found Ibritumomab Tiuxetan\n",
      "found Ibrutinib\n",
      "found Idelalisib\n",
      "found Imiquimod\n",
      "found Inotuzumab ozogamicin\n",
      "found Ipilimumab\n",
      "found Ivosidenib\n",
      "found Larotrectinib\n",
      "found Lenalidomide\n",
      "found Letrozole\n",
      "found Lorlatinib\n",
      "found Megestrol Acetate\n",
      "found Midostaurin\n",
      "found Moxetumomab Pasudotox\n",
      "found Necitumumab\n",
      "found Nilotinib\n",
      "found Nilutamide\n",
      "found Nivolumab\n",
      "found Obinutuzumab\n",
      "found Ofatumumab\n",
      "found Olaparib\n",
      "found Omacetaxine Mepesuccinate\n",
      "found Palbociclib\n",
      "found Panitumumab\n",
      "found Panobinostat\n",
      "found Peginterferon Alfa-2b\n",
      "found Pembrolizumab\n",
      "found Pertuzumab\n",
      "found Pexidartinib\n",
      "found Pomalidomide\n",
      "found Ramucirumab\n",
      "found Regorafenib\n",
      "found Relugolix\n",
      "found Ribociclib\n",
      "found Rituximab\n",
      "found Romidepsin\n",
      "found Siltuximab\n",
      "found Sonidegib\n",
      "found Temsirolimus\n",
      "found Thalidomide\n",
      "found Tisagenlecleucel\n",
      "found Tocilizumab\n",
      "found Toremifene\n",
      "found Trastuzumab\n",
      "found Tucatinib\n",
      "found Valrubicin\n",
      "found Vandetanib\n",
      "found Vemurafenib\n",
      "found Venetoclax\n",
      "found Vismodegib\n",
      "found Vorinostat\n",
      "found zanubrutinib\n"
     ]
    }
   ],
   "source": [
    "found, found_approved, not_found = find_common_drugs(cancer_drugs)\n"
   ]
  },
  {
   "cell_type": "code",
   "execution_count": 13,
   "id": "cd6ec9d0",
   "metadata": {
    "scrolled": true
   },
   "outputs": [
    {
     "name": "stdout",
     "output_type": "stream",
     "text": [
      "found Abiraterone\n",
      "found Trastuzumab\n",
      "found Afatinib\n",
      "found Capmatinib\n",
      "found Cobimetinib\n",
      "found Copanlisib\n",
      "found Dabrafenib\n",
      "found Daunorubicin\n",
      "found Doxorubicin\n",
      "found Doxorubicin\n",
      "found Enasidenib\n",
      "found Epirubicin\n",
      "found Erlotinib\n",
      "found Etoposide\n",
      "found Etoposide\n",
      "found Trastuzumab\n",
      "found Fedratinib\n",
      "found Fostamatinib\n",
      "found Gilteritinib\n",
      "found Glasdegib\n",
      "found Goserelin\n",
      "found Idarubicin\n",
      "found Imatinib\n",
      "found Infigratinib\n",
      "found Irinotecan\n",
      "found Irinotecan\n",
      "found Irinotecan\n",
      "found Ixazomib\n",
      "found Lanreotide\n",
      "found Lapatinib\n",
      "found Larotrectinib\n",
      "found Lenvatinib\n",
      "found Leuprolide\n",
      "found Mitoxantrone\n",
      "found Neratinib\n",
      "found Niraparib\n",
      "found Osimertinib\n",
      "found Pazopanib\n",
      "found Pexidartinib\n",
      "found Ponatinib\n",
      "found Raloxifene\n",
      "found Rucaparib\n",
      "found Ruxolitinib\n",
      "found Selumetinib\n",
      "found Sorafenib\n",
      "found Sunitinib\n",
      "found Talazoparib\n",
      "found Tamoxifen\n",
      "found Tazemetostat\n",
      "found Tepotinib\n",
      "found Tivozanib\n",
      "found Topotecan\n",
      "found Trametinib\n",
      "found Umbralisib\n"
     ]
    }
   ],
   "source": [
    "found_split, found_approved_split, not_found_split = find_common_drugs(cancer_drugs_split)"
   ]
  },
  {
   "cell_type": "code",
   "execution_count": 16,
   "id": "e1211adf",
   "metadata": {},
   "outputs": [
    {
     "name": "stdout",
     "output_type": "stream",
     "text": [
      "99 100\n"
     ]
    }
   ],
   "source": [
    "print(len(found), len(not_found))"
   ]
  },
  {
   "cell_type": "code",
   "execution_count": 18,
   "id": "10affec2",
   "metadata": {},
   "outputs": [
    {
     "name": "stdout",
     "output_type": "stream",
     "text": [
      "54 30\n"
     ]
    }
   ],
   "source": [
    "print(len(found_split), len(not_found_split))"
   ]
  },
  {
   "cell_type": "code",
   "execution_count": 19,
   "id": "74ea88de",
   "metadata": {},
   "outputs": [
    {
     "data": {
      "text/plain": [
       "['Ado-Trastuzumab',\n",
       " 'Arsenic',\n",
       " 'Asciminib',\n",
       " 'Asparaginase',\n",
       " 'Asparaginase',\n",
       " 'Axicabtagene',\n",
       " 'Belantamab',\n",
       " 'Brentuximab',\n",
       " 'Brexucabtagene',\n",
       " 'Calaspargase',\n",
       " 'Denileukin',\n",
       " 'Enfortumab',\n",
       " 'Fam-Trastuzumab',\n",
       " 'Gemtuzumab',\n",
       " 'Ibritumomab',\n",
       " 'Idecabtagene',\n",
       " 'Inotuzumab',\n",
       " 'Lisocabtagene',\n",
       " 'Loncastuximab',\n",
       " 'Loncastuximab',\n",
       " 'Megestrol',\n",
       " 'Mobocertinib',\n",
       " 'Moxetumomab',\n",
       " 'Moxetumomab',\n",
       " 'Omacetaxine',\n",
       " 'Peginterferon',\n",
       " 'Pegylated',\n",
       " 'Recombinant',\n",
       " 'Tisotumab',\n",
       " 'Tisotumab']"
      ]
     },
     "execution_count": 19,
     "metadata": {},
     "output_type": "execute_result"
    }
   ],
   "source": [
    "not_found_split"
   ]
  },
  {
   "cell_type": "code",
   "execution_count": 22,
   "id": "32ca3da4",
   "metadata": {},
   "outputs": [
    {
     "data": {
      "text/plain": [
       "([], [], ['Megestrol'])"
      ]
     },
     "execution_count": 22,
     "metadata": {},
     "output_type": "execute_result"
    }
   ],
   "source": [
    "find_common_drugs(['Megestrol'])"
   ]
  },
  {
   "cell_type": "code",
   "execution_count": 40,
   "id": "b2d8544c",
   "metadata": {},
   "outputs": [],
   "source": [
    "import numpy as np"
   ]
  },
  {
   "cell_type": "code",
   "execution_count": 52,
   "id": "33a83781",
   "metadata": {},
   "outputs": [
    {
     "data": {
      "text/plain": [
       "595"
      ]
     },
     "execution_count": 52,
     "metadata": {},
     "output_type": "execute_result"
    }
   ],
   "source": [
    "max(pd.read_csv('data/CANCERNET/Data not included in the db-V2 - NIH.csv.gz', compression='gzip', header=0)['Notes'].apply(lambda x: len(x) if x is not np.nan  else 0))\n",
    "\n",
    "\n"
   ]
  },
  {
   "cell_type": "code",
   "execution_count": 47,
   "id": "0bb46b9c",
   "metadata": {},
   "outputs": [
    {
     "data": {
      "text/plain": [
       "Index(['Drug name', 'Target ', 'Cancer type', 'website', 'Access date',\n",
       "       'Notes', 'Combination formation'],\n",
       "      dtype='object')"
      ]
     },
     "execution_count": 47,
     "metadata": {},
     "output_type": "execute_result"
    }
   ],
   "source": [
    "pd.read_csv('data/CANCERNET/Data not included in the db-V2 - NIH.csv.gz', compression='gzip', header=0).columns"
   ]
  },
  {
   "cell_type": "code",
   "execution_count": null,
   "id": "7a34a680",
   "metadata": {},
   "outputs": [],
   "source": []
  },
  {
   "cell_type": "code",
   "execution_count": null,
   "id": "ad610d0f",
   "metadata": {},
   "outputs": [],
   "source": []
  }
 ],
 "metadata": {
  "kernelspec": {
   "display_name": "Python 3",
   "language": "python",
   "name": "python3"
  },
  "language_info": {
   "codemirror_mode": {
    "name": "ipython",
    "version": 3
   },
   "file_extension": ".py",
   "mimetype": "text/x-python",
   "name": "python",
   "nbconvert_exporter": "python",
   "pygments_lexer": "ipython3",
   "version": "3.6.13"
  }
 },
 "nbformat": 4,
 "nbformat_minor": 5
}
