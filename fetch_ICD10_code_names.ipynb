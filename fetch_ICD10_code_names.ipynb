{
 "cells": [
  {
   "cell_type": "code",
   "execution_count": 216,
   "metadata": {},
   "outputs": [],
   "source": [
    "from xml.dom import minidom\n",
    "from pronto import Ontology\n",
    "import pandas as pd"
   ]
  },
  {
   "cell_type": "code",
   "execution_count": 230,
   "metadata": {},
   "outputs": [],
   "source": [
    "# parse an xml file by name\n",
    "mydoc = minidom.parse('data/REPO-TRIAL-comorbiditome/icd10cm_tabular_2021.xml')\n",
    "\n",
    "items = mydoc.getElementsByTagName('diag')\n",
    "\n",
    "icd10_encoder = {}\n",
    "\n",
    "for item in items:\n",
    "    code = item.getElementsByTagName('name')[0].firstChild.data\n",
    "    \n",
    "    # we dont want to get all the sub-diseases, not used in Comorbidity file from Repo-Trial-DB\n",
    "    if '.' in code:\n",
    "        continue\n",
    "        \n",
    "    name = item.getElementsByTagName('desc')[0].firstChild.data\n",
    "    \n",
    "    icd10_encoder[code] = name\n",
    "    \n",
    "mondo_to_icd = {}\n",
    "icd_to_mondo = {}\n",
    "\n",
    "with open('data/REPO-TRIAL-comorbiditome/mondo.owl', 'r', encoding=\"utf8\") as reader:\n",
    "    # Read & print the entire file\n",
    "    for line in reader:\n",
    "        if 'owl:annotatedSource rdf:resource=\"http://purl.obolibrary.org/obo/MONDO' in line:\n",
    "            mondo_id = line.split('http://purl.obolibrary.org/obo/')[1][:13]\n",
    "            mondo_id = mondo_id.split('_')[1]\n",
    "\n",
    "        elif 'owl:annotatedTarget' in line and 'ICD10:' in line:\n",
    "            icd10 = line.split('<owl:annotatedTarget rdf:datatype=\"http://www.w3.org/2001/XMLSchema#string\">')[1].split('<')[0]\n",
    "            icd10 = icd10.split('.')[0]\n",
    "            icd10 = icd10.split(':')[1]\n",
    "            mondo_to_icd[mondo_id] = icd10\n",
    "            icd_to_mondo[icd10] = mondo_id\n",
    "    \n",
    "df = pd.read_csv(\"data/REPO-TRIAL-comorbiditome/Comorbidity_MAINCODE_all_APR_2020_withDelivery_noCutoff.txt\", sep=\"\\t\")\n",
    "\n",
    "df['disease1_name'] = df['disease1'].map(icd10_encoder)\n",
    "df['disease2_name'] = df['disease2'].map(icd10_encoder)    \n",
    "\n",
    "# normalize relative_risk\n",
    "max_value = df['relative_risk'].max()\n",
    "min_value = df['relative_risk'].min()\n",
    "df['relative_risk_norm'] = (df['relative_risk'] - min_value) / (max_value - min_value)\n",
    "\n",
    "\n",
    "df = df.rename(columns={'disease1': 'disease1_ICD10', 'disease2': 'disease2_ICD10'})\n",
    "\n",
    "df['disease1_Mondo'] = df['disease1_ICD10'].map(icd_to_mondo)\n",
    "df['disease2_Mondo'] = df['disease2_ICD10'].map(icd_to_mondo)\n",
    "\n",
    "df.to_csv('data/REPO-TRIAL-comorbiditome/Comorbidity_ALL_with_names_edited.csv')"
   ]
  },
  {
   "cell_type": "code",
   "execution_count": null,
   "metadata": {},
   "outputs": [],
   "source": []
  },
  {
   "cell_type": "code",
   "execution_count": null,
   "metadata": {},
   "outputs": [],
   "source": []
  },
  {
   "cell_type": "code",
   "execution_count": null,
   "metadata": {},
   "outputs": [],
   "source": []
  },
  {
   "cell_type": "code",
   "execution_count": null,
   "metadata": {},
   "outputs": [],
   "source": []
  },
  {
   "cell_type": "code",
   "execution_count": null,
   "metadata": {},
   "outputs": [],
   "source": []
  },
  {
   "cell_type": "code",
   "execution_count": null,
   "metadata": {},
   "outputs": [],
   "source": []
  },
  {
   "cell_type": "code",
   "execution_count": null,
   "metadata": {},
   "outputs": [],
   "source": []
  },
  {
   "cell_type": "code",
   "execution_count": null,
   "metadata": {},
   "outputs": [],
   "source": []
  },
  {
   "cell_type": "markdown",
   "metadata": {},
   "source": [
    "### load gene information about comorbidities"
   ]
  },
  {
   "cell_type": "code",
   "execution_count": 229,
   "metadata": {},
   "outputs": [
    {
     "data": {
      "text/html": [
       "<div>\n",
       "<style scoped>\n",
       "    .dataframe tbody tr th:only-of-type {\n",
       "        vertical-align: middle;\n",
       "    }\n",
       "\n",
       "    .dataframe tbody tr th {\n",
       "        vertical-align: top;\n",
       "    }\n",
       "\n",
       "    .dataframe thead th {\n",
       "        text-align: right;\n",
       "    }\n",
       "</style>\n",
       "<table border=\"1\" class=\"dataframe\">\n",
       "  <thead>\n",
       "    <tr style=\"text-align: right;\">\n",
       "      <th></th>\n",
       "      <th>EntrezID</th>\n",
       "      <th>Mondo</th>\n",
       "      <th>database_assertedBy</th>\n",
       "      <th>score_DisGeNet</th>\n",
       "      <th>mondo_disease_name</th>\n",
       "      <th>icd10</th>\n",
       "    </tr>\n",
       "  </thead>\n",
       "  <tbody>\n",
       "    <tr>\n",
       "      <th>0</th>\n",
       "      <td>171514</td>\n",
       "      <td>0011727</td>\n",
       "      <td>omim</td>\n",
       "      <td>NaN</td>\n",
       "      <td>anorexia nervosa, susceptibility to, 1</td>\n",
       "      <td>NaN</td>\n",
       "    </tr>\n",
       "    <tr>\n",
       "      <th>1</th>\n",
       "      <td>100307118</td>\n",
       "      <td>0011556</td>\n",
       "      <td>omim</td>\n",
       "      <td>NaN</td>\n",
       "      <td>BCC1</td>\n",
       "      <td>NaN</td>\n",
       "    </tr>\n",
       "    <tr>\n",
       "      <th>2</th>\n",
       "      <td>1243</td>\n",
       "      <td>0007963</td>\n",
       "      <td>omim</td>\n",
       "      <td>NaN</td>\n",
       "      <td>melanoma, cutaneous malignant, susceptibility ...</td>\n",
       "      <td>NaN</td>\n",
       "    </tr>\n",
       "    <tr>\n",
       "      <th>3</th>\n",
       "      <td>7792</td>\n",
       "      <td>0007280</td>\n",
       "      <td>omim</td>\n",
       "      <td>NaN</td>\n",
       "      <td>cataract 8 multiple types</td>\n",
       "      <td>Q12</td>\n",
       "    </tr>\n",
       "    <tr>\n",
       "      <th>4</th>\n",
       "      <td>406874</td>\n",
       "      <td>0012168</td>\n",
       "      <td>omim</td>\n",
       "      <td>NaN</td>\n",
       "      <td>dyslexia, susceptibility to, 8</td>\n",
       "      <td>NaN</td>\n",
       "    </tr>\n",
       "  </tbody>\n",
       "</table>\n",
       "</div>"
      ],
      "text/plain": [
       "    EntrezID    Mondo database_assertedBy  score_DisGeNet  \\\n",
       "0     171514  0011727                omim             NaN   \n",
       "1  100307118  0011556                omim             NaN   \n",
       "2       1243  0007963                omim             NaN   \n",
       "3       7792  0007280                omim             NaN   \n",
       "4     406874  0012168                omim             NaN   \n",
       "\n",
       "                                  mondo_disease_name icd10  \n",
       "0             anorexia nervosa, susceptibility to, 1   NaN  \n",
       "1                                               BCC1   NaN  \n",
       "2  melanoma, cutaneous malignant, susceptibility ...   NaN  \n",
       "3                          cataract 8 multiple types   Q12  \n",
       "4                     dyslexia, susceptibility to, 8   NaN  "
      ]
     },
     "execution_count": 229,
     "metadata": {},
     "output_type": "execute_result"
    }
   ],
   "source": [
    "df = pd.read_csv('data/REPO-TRIAL-comorbiditome/gene-disease-associations-OMIM&DisGeNet.txt', sep=\"\\t\")\n",
    "df = df.rename(columns={'Gene': 'EntrezID', 'Disease': 'Mondo'})\n",
    "\n",
    "df['EntrezID'] = df['EntrezID'].map(lambda x: x.split('.')[1])\n",
    "\n",
    "def __format_mondo(x):\n",
    "    mondo_id = x.split('.')[1]\n",
    "    return mondo_id\n",
    "\n",
    "df['Mondo'] = df['Mondo'].map(__format_mondo)\n",
    "# read mondo db \n",
    "file = Ontology('data/REPO-TRIAL-comorbiditome/mondo_codes_to_names.obo')\n",
    "df['mondo_disease_name'] = df['Mondo'].map(lambda x: file[f'MONDO:{x}'].name)\n",
    "df['icd10'] = df['Mondo'].map(mondo_to_icd)\n",
    "\n",
    "df.to_csv('data/REPO-TRIAL-comorbiditome/comorbidity_disease_gene_interactions.csv')\n",
    "df.head()"
   ]
  },
  {
   "cell_type": "code",
   "execution_count": null,
   "metadata": {},
   "outputs": [],
   "source": []
  },
  {
   "cell_type": "code",
   "execution_count": 136,
   "metadata": {},
   "outputs": [],
   "source": []
  },
  {
   "cell_type": "code",
   "execution_count": null,
   "metadata": {},
   "outputs": [],
   "source": []
  },
  {
   "cell_type": "code",
   "execution_count": null,
   "metadata": {},
   "outputs": [],
   "source": []
  },
  {
   "cell_type": "code",
   "execution_count": null,
   "metadata": {},
   "outputs": [],
   "source": []
  }
 ],
 "metadata": {
  "kernelspec": {
   "display_name": "Python 3",
   "language": "python",
   "name": "python3"
  },
  "language_info": {
   "codemirror_mode": {
    "name": "ipython",
    "version": 3
   },
   "file_extension": ".py",
   "mimetype": "text/x-python",
   "name": "python",
   "nbconvert_exporter": "python",
   "pygments_lexer": "ipython3",
   "version": "3.8.3"
  }
 },
 "nbformat": 4,
 "nbformat_minor": 4
}
